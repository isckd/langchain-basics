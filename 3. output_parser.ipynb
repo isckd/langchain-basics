{
 "cells": [
  {
   "cell_type": "markdown",
   "id": "7dcc7f89",
   "metadata": {},
   "source": [
    "### Ollama - llama test"
   ]
  },
  {
   "cell_type": "code",
   "execution_count": null,
   "id": "2d01ba40",
   "metadata": {},
   "outputs": [],
   "source": [
    "from langchain_ollama import ChatOllama\n",
    "\n",
    "llm = ChatOllama(model=\"llama3.2:1b\")"
   ]
  },
  {
   "cell_type": "markdown",
   "id": "27cf6314",
   "metadata": {},
   "source": [
    "### Str Output Parser"
   ]
  },
  {
   "cell_type": "code",
   "execution_count": null,
   "id": "07a86a67",
   "metadata": {},
   "outputs": [],
   "source": [
    "# 원래 답변 : 아래와 같이 지저분함\n",
    "# AIMessage(content='The capital of France is Paris.', additional_kwargs={}, response_metadata={'model': 'llama3.2:1b', 'created_at': '2025-10-28T01:43:06.1172334Z', 'done': True, 'done_reason': 'stop', 'total_duration': 4064044000, 'load_duration': 3259412400, 'prompt_eval_count': 32, 'prompt_eval_duration': 479329800, 'eval_count': 8, 'eval_duration': 301487700, 'model_name': 'llama3.2:1b', 'model_provider': 'ollama'}, id='lc_run--51ac0589-2b94-4bfa-a72a-fb36edf96204-0', usage_metadata={'input_tokens': 32, 'output_tokens': 8, 'total_tokens': 40})\n",
    "\n",
    "from langchain_core.prompts import PromptTemplate\n",
    "from langchain_core.output_parsers import StrOutputParser\n",
    "\n",
    "prompt_template = PromptTemplate(\n",
    "    template= \"What is the capital of {country}? Return only the name of the capital.\",\n",
    "    input_variables=[\"country\"]\n",
    ")\n",
    "\n",
    "prompt = prompt_template.invoke({\"country\": \"France\"})\n",
    "\n",
    "print(prompt)\n",
    "\n",
    "ai_message = llm.invoke(prompt)\n",
    "\n",
    "output_parser = StrOutputParser()\n",
    "\n",
    "answer = output_parser.invoke(llm.invoke(prompt))"
   ]
  },
  {
   "cell_type": "code",
   "execution_count": null,
   "id": "3a99dfb4",
   "metadata": {},
   "outputs": [],
   "source": [
    "ai_message"
   ]
  },
  {
   "cell_type": "code",
   "execution_count": null,
   "id": "2480bcb9",
   "metadata": {},
   "outputs": [],
   "source": [
    "answer"
   ]
  },
  {
   "cell_type": "markdown",
   "id": "214f4418",
   "metadata": {},
   "source": [
    "### JsonOutputParser 는 잘 안됨"
   ]
  },
  {
   "cell_type": "code",
   "execution_count": null,
   "id": "ae8c3726",
   "metadata": {},
   "outputs": [],
   "source": [
    "from langchain_core.output_parsers import JsonOutputParser\n",
    "\n",
    "country_detail_prompt = PromptTemplate(\n",
    "    template=\"\"\"Give following information about {country}:\n",
    "    - Capital\n",
    "    - Population\n",
    "    - Languages\n",
    "    - Currency\n",
    "\n",
    "    return it in JSON format. and return the JSON dictionary only\n",
    "    \"\"\",\n",
    "    input_variables=[\"country\"],\n",
    ")\n",
    "\n",
    "country_detail_prompt.invoke({\"country\": \"France\"})\n",
    "\n",
    "output_parser = JsonOutputParser()\n",
    "json_ai_message = llm.invoke(country_detail_prompt)\n",
    "answer = output_parser.invoke(json_ai_message)"
   ]
  },
  {
   "cell_type": "code",
   "execution_count": null,
   "id": "8472924a",
   "metadata": {},
   "outputs": [],
   "source": [
    "# 문제 있음 (```이 언제 어디에 위치할지 모름)\n",
    "json_ai_message.content"
   ]
  },
  {
   "cell_type": "markdown",
   "id": "165a59d7",
   "metadata": {},
   "source": [
    "### pydantic 을 사용해 구조화된 응답 출력 가능"
   ]
  },
  {
   "cell_type": "code",
   "execution_count": null,
   "id": "4409b343",
   "metadata": {},
   "outputs": [],
   "source": [
    "# pydantic 의 BaseModel을 사용하여 구조화된 출력을 생성\n",
    "\n",
    "from pydantic import BaseModel, Field\n",
    "\n",
    "class CountryDetail(BaseModel):\n",
    "    capital: str = Field(description=\"The capital of the country\")\n",
    "    population: int = Field(description=\"The population of the country\")\n",
    "    languages: list[str] = Field(description=\"The languages spoken in the country\")\n",
    "    currency: str = Field(description=\"The currency of the country\")\n",
    "\n",
    "structued_llm = llm.with_structured_output(CountryDetail)\n",
    "json_ai_message = structued_llm.invoke(country_detail_prompt.invoke({\"country\": \"France\"}))\n",
    "\n",
    "print(structued_llm)"
   ]
  },
  {
   "cell_type": "code",
   "execution_count": null,
   "id": "7b10f557",
   "metadata": {},
   "outputs": [],
   "source": [
    "json_ai_message"
   ]
  },
  {
   "cell_type": "code",
   "execution_count": null,
   "id": "1c411a91",
   "metadata": {},
   "outputs": [],
   "source": [
    "print(json_ai_message.capital)\n",
    "print(json_ai_message.population)\n",
    "print(json_ai_message.languages)\n",
    "print(json_ai_message.currency)\n",
    "\n",
    "json_ai_message.model_dump()\n"
   ]
  },
  {
   "cell_type": "code",
   "execution_count": null,
   "id": "86f29c2a",
   "metadata": {},
   "outputs": [],
   "source": []
  }
 ],
 "metadata": {
  "kernelspec": {
   "display_name": ".venv",
   "language": "python",
   "name": "python3"
  },
  "language_info": {
   "codemirror_mode": {
    "name": "ipython",
    "version": 3
   },
   "file_extension": ".py",
   "mimetype": "text/x-python",
   "name": "python",
   "nbconvert_exporter": "python",
   "pygments_lexer": "ipython3",
   "version": "3.12.4"
  }
 },
 "nbformat": 4,
 "nbformat_minor": 5
}
