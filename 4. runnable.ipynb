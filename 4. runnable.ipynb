{
 "cells": [
  {
   "cell_type": "markdown",
   "id": "7dcc7f89",
   "metadata": {},
   "source": [
    "### 모든 것이 Runnable 이기 때문에 invoke 대신 파이프라인으로 체이닝이 가능하다."
   ]
  },
  {
   "cell_type": "code",
   "execution_count": 26,
   "id": "2d01ba40",
   "metadata": {},
   "outputs": [],
   "source": [
    "from langchain_ollama import ChatOllama\n",
    "\n",
    "llm = ChatOllama(model=\"llama3.2:1b\")"
   ]
  },
  {
   "cell_type": "code",
   "execution_count": 27,
   "id": "4409b343",
   "metadata": {},
   "outputs": [
    {
     "name": "stdout",
     "output_type": "stream",
     "text": [
      "text='What is the capital of France? Return only the name of the capital.'\n"
     ]
    }
   ],
   "source": [
    "from langchain_core.prompts import PromptTemplate\n",
    "from langchain_core.output_parsers import StrOutputParser\n",
    "\n",
    "prompt_template = PromptTemplate(\n",
    "    template= \"What is the capital of {country}? Return only the name of the capital.\",\n",
    "    input_variables=[\"country\"]\n",
    ")\n",
    "\n",
    "prompt = prompt_template.invoke({\"country\": \"France\"})\n",
    "\n",
    "print(prompt)\n",
    "\n",
    "ai_message = llm.invoke(prompt)\n",
    "\n",
    "output_parser = StrOutputParser()\n",
    "\n",
    "answer = output_parser.invoke(llm.invoke(prompt))"
   ]
  },
  {
   "cell_type": "code",
   "execution_count": 28,
   "id": "7b10f557",
   "metadata": {},
   "outputs": [
    {
     "data": {
      "text/plain": [
       "'Paris'"
      ]
     },
     "execution_count": 28,
     "metadata": {},
     "output_type": "execute_result"
    }
   ],
   "source": [
    "answer"
   ]
  },
  {
   "cell_type": "code",
   "execution_count": 29,
   "id": "1c411a91",
   "metadata": {},
   "outputs": [],
   "source": [
    "capital_chain = prompt_template | llm | output_parser"
   ]
  },
  {
   "cell_type": "code",
   "execution_count": 30,
   "id": "86f29c2a",
   "metadata": {},
   "outputs": [
    {
     "data": {
      "text/plain": [
       "'Paris.'"
      ]
     },
     "execution_count": 30,
     "metadata": {},
     "output_type": "execute_result"
    }
   ],
   "source": [
    "capital_chain.invoke({\"country\": \"France\"})"
   ]
  },
  {
   "cell_type": "code",
   "execution_count": 31,
   "id": "d80de6ba",
   "metadata": {},
   "outputs": [
    {
     "data": {
      "text/plain": [
       "'Italy.'"
      ]
     },
     "execution_count": 31,
     "metadata": {},
     "output_type": "execute_result"
    }
   ],
   "source": [
    "country_prompt = PromptTemplate(\n",
    "    template=\"\"\"Guess the name of the country in the {continent} based on the following information:\n",
    "    {information}\n",
    "    Return the name of the country only\n",
    "    \"\"\",\n",
    "    input_variables=[\"information\", \"continent\"]\n",
    ")\n",
    "\n",
    "country_chain = country_prompt | llm | output_parser\n",
    "country_chain.invoke({\"information\": \"This country is very famous for its wine in Eurpoe\"})"
   ]
  },
  {
   "cell_type": "code",
   "execution_count": null,
   "id": "c5d9c9f2",
   "metadata": {},
   "outputs": [],
   "source": [
    "from langchain_core.runnables import RunnablePassthrough\n",
    "\n",
    "\n",
    "final_chain = {\"country\": country_chain} | capital_chain\n",
    "\n",
    "## 또는\n",
    "# final_chain = {\"information\": RunnablePassthrough(), \"continent\": RunnablePassthrough()} | {\"country\": country_chain} | capital_chain"
   ]
  },
  {
   "cell_type": "code",
   "execution_count": 47,
   "id": "65bd8a50",
   "metadata": {},
   "outputs": [
    {
     "data": {
      "text/plain": [
       "'Rome'"
      ]
     },
     "execution_count": 47,
     "metadata": {},
     "output_type": "execute_result"
    }
   ],
   "source": [
    "final_chain.invoke({\"information\": \"This country is very famous for its wine\", \"continent\": \"Europe\"})"
   ]
  },
  {
   "cell_type": "code",
   "execution_count": null,
   "id": "8cabf758",
   "metadata": {},
   "outputs": [],
   "source": []
  }
 ],
 "metadata": {
  "kernelspec": {
   "display_name": ".venv",
   "language": "python",
   "name": "python3"
  },
  "language_info": {
   "codemirror_mode": {
    "name": "ipython",
    "version": 3
   },
   "file_extension": ".py",
   "mimetype": "text/x-python",
   "name": "python",
   "nbconvert_exporter": "python",
   "pygments_lexer": "ipython3",
   "version": "3.12.4"
  }
 },
 "nbformat": 4,
 "nbformat_minor": 5
}
