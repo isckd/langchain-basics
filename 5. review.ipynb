{
 "cells": [
  {
   "cell_type": "markdown",
   "id": "a7479cf1",
   "metadata": {},
   "source": [
    "### Review\n",
    "\n",
    "LLM\n",
    "- ChatOllama\n",
    "- ChatOpenAI\n",
    "\n",
    "Prompt\n",
    "- PromptTemplate (기본 프롬프트 + invoke 실행과 동시에 변수 삽입)\n",
    "- ChatPromptTemplate (튜플 형태로 시스템/유저 프롬프트 퓨샷 + invoke 실행과 동시에 변수 삽입)\n",
    "\n",
    "Response Parser\n",
    "- OutputParser(기본 Str) \n",
    "    - StrOutputParser().invoke(llm.invoke(prompt))\n",
    "- pydantic 의 BaseModel을 사용하여 Json 구조화된 출력을 생성\n",
    "    - class CountryDetail(BaseModel):\n",
    "        capital: str = Field(description=\"The capital of the country\")\n",
    "        ...\n",
    "    - llm.with_structured_output(CountryDetail).invoke(prompt.invoke({\"country\": \"France\"}))\n",
    "\n",
    "### 이 모든것들은 Runnable 이며, 체이닝(LCEL)이 가능하다.\n",
    "- LangChain 은 모두 실행 가능한 것들의 모임.\n",
    "- | 파이프라인을 통해 실행 결과를 전달할 수 있다.\n",
    "- 결과를 통해 생긴 체인도 Runnable 이라, 이것들도 체이닝이 가능하다."
   ]
  },
  {
   "cell_type": "markdown",
   "id": "65825d12",
   "metadata": {},
   "source": [
    "### 체이닝 연습\n",
    "나라, 음식, 레시피 체이닝 연습"
   ]
  },
  {
   "cell_type": "code",
   "execution_count": 1,
   "id": "475f3e98",
   "metadata": {},
   "outputs": [],
   "source": [
    "from langchain_ollama import ChatOllama\n",
    "\n",
    "llm = ChatOllama(\n",
    "    model=\"llama3.2:1b\",\n",
    "    temperature = 0\n",
    ")"
   ]
  },
  {
   "cell_type": "code",
   "execution_count": 4,
   "id": "d97e2604",
   "metadata": {},
   "outputs": [],
   "source": [
    "from langchain_core.output_parsers import StrOutputParser\n",
    "from langchain_core.prompts import PromptTemplate\n",
    "\n",
    "food_prompt = PromptTemplate(\n",
    "    template= \"\"\"what is one of the most popular food in {country}?\n",
    "    Please return the name of the food only.\n",
    "    \"\"\",\n",
    "    input_variables= [\"country\"],\n",
    ")\n",
    "\n",
    "food_chain = food_prompt | llm | StrOutputParser()"
   ]
  },
  {
   "cell_type": "code",
   "execution_count": 5,
   "id": "386ef07a",
   "metadata": {},
   "outputs": [
    {
     "data": {
      "text/plain": [
       "'Bibimbap.'"
      ]
     },
     "execution_count": 5,
     "metadata": {},
     "output_type": "execute_result"
    }
   ],
   "source": [
    "food_chain.invoke({\"country\": \"South Korea\"})"
   ]
  },
  {
   "cell_type": "code",
   "execution_count": 12,
   "id": "788793ea",
   "metadata": {},
   "outputs": [],
   "source": [
    "from langchain_core.prompts import ChatPromptTemplate\n",
    "\n",
    "\n",
    "recipe_prompt = ChatPromptTemplate.from_messages([\n",
    "    (\"system\", \"\"\"Provide the recipe of the food that the user wants.\n",
    "        Please return recipe only as a numbered list.\"\"\"),\n",
    "    (\"human\", \"Can you give me the recipe for making {food}?\"),\n",
    "])\n",
    "\n",
    "receipe_chain = recipe_prompt | llm | StrOutputParser()"
   ]
  },
  {
   "cell_type": "code",
   "execution_count": 13,
   "id": "21370f9b",
   "metadata": {},
   "outputs": [
    {
     "data": {
      "text/plain": [
       "\"Here's a traditional Korean-style bibimbap recipe:\\n\\n**Ingredients:**\\n\\n* 1 cup of mixed vegetables (such as zucchini, carrots, bean sprouts, and spinach)\\n* 1/2 cup of cooked white rice\\n* 1/4 cup of chopped green onions\\n* 1/4 cup of toasted sesame seeds\\n* 1/4 cup of crispy garlic, minced\\n* 1/2 cup of spicy gochujang sauce (Korean chili paste)\\n* 1/4 cup of soy sauce\\n* 1/4 cup of rice vinegar\\n* 1 tablespoon of Gochugaru (Korean red pepper flakes)\\n* 1 teaspoon of ground black pepper\\n* 2 eggs, fried or poached\\n* Salt to taste\\n\\n**Instructions:**\\n\\n1. Cook the mixed vegetables according to your preference.\\n2. In a separate pan, heat some oil and fry an egg until it's cooked through.\\n3. To assemble the bibimbap, place a scoop of cooked white rice in a bowl.\\n4. Arrange the mixed vegetables, fried egg, green onions, sesame seeds, and crispy garlic on top of the rice.\\n5. Drizzle the spicy gochujang sauce, soy sauce, rice vinegar, Gochugaru, and black pepper over the ingredients.\\n6. Serve immediately and enjoy!\\n\\n**Tips:**\\n\\n* Use a variety of colorful vegetables to make the dish visually appealing.\\n* Adjust the level of spiciness to your liking by adding more or less Gochugaru.\\n* You can also add other toppings such as diced chicken, boiled egg, or pickled radish to make it more substantial.\""
      ]
     },
     "execution_count": 13,
     "metadata": {},
     "output_type": "execute_result"
    }
   ],
   "source": [
    "receipe_chain.invoke({\"food\": \"bibimbap\"})"
   ]
  },
  {
   "cell_type": "code",
   "execution_count": 15,
   "id": "56b0f77c",
   "metadata": {},
   "outputs": [],
   "source": [
    "final_chain = {\"food\": food_chain} | receipe_chain"
   ]
  },
  {
   "cell_type": "code",
   "execution_count": 16,
   "id": "59ee835d",
   "metadata": {},
   "outputs": [
    {
     "data": {
      "text/plain": [
       "\"Here's a traditional Korean recipe for Bibimbap:\\n\\n**Servings:** 4-6 people\\n\\n**Ingredients:**\\n\\n1. **Rice**: 2 cups of white or brown rice\\n2. **Vegetables**: 1 cup of bean sprouts, 1 cup of shredded zucchini, 1/2 cup of diced carrots, 1/2 cup of diced cucumber, 1/4 cup of chopped scallions\\n3. **Meat**: 1/2 cup of cooked beef (such as ribeye or sirloin), sliced into thin strips\\n4. **Eggs**: 2 eggs, fried sunny-side up\\n5. **Sauce**: 2 tablespoons of Gochujang (Korean chili paste)\\n6. **Seasonings**: 1 tablespoon of soy sauce, 1 tablespoon of sesame oil, 1 teaspoon of ground black pepper\\n\\n**Instructions:**\\n\\n1. Cook the rice according to package instructions.\\n2. In a separate pan, heat the Gochujang and sesame oil over medium heat. Add the sliced beef and cook until browned, about 3-4 minutes.\\n3. Push the beef to one side of the pan. Crack in the eggs and scramble them until cooked through.\\n4. Mix the eggs with the beef.\\n5. To assemble the Bibimbap, place a scoop of rice on a plate. Arrange the vegetables, meat, and egg mixture on top of the rice.\\n6. Drizzle the sauce over the ingredients.\\n7. Garnish with chopped scallions and serve immediately.\\n\\n**Tips:**\\n\\n* Use a variety of colorful vegetables to make the dish visually appealing.\\n* Adjust the level of spiciness to your liking by adding more or less Gochujang.\\n* You can also add other toppings such as diced green onions, toasted sesame seeds, or pickled ginger.\""
      ]
     },
     "execution_count": 16,
     "metadata": {},
     "output_type": "execute_result"
    }
   ],
   "source": [
    "final_chain.invoke({\"country\": \"South Korea\"})"
   ]
  }
 ],
 "metadata": {
  "kernelspec": {
   "display_name": ".venv",
   "language": "python",
   "name": "python3"
  },
  "language_info": {
   "codemirror_mode": {
    "name": "ipython",
    "version": 3
   },
   "file_extension": ".py",
   "mimetype": "text/x-python",
   "name": "python",
   "nbconvert_exporter": "python",
   "pygments_lexer": "ipython3",
   "version": "3.12.4"
  }
 },
 "nbformat": 4,
 "nbformat_minor": 5
}
