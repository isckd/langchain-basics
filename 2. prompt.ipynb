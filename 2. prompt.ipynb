{
 "cells": [
  {
   "cell_type": "markdown",
   "id": "7dcc7f89",
   "metadata": {},
   "source": [
    "### Ollama - llama test"
   ]
  },
  {
   "cell_type": "code",
   "execution_count": 2,
   "id": "2d01ba40",
   "metadata": {},
   "outputs": [],
   "source": [
    "from langchain_ollama import ChatOllama\n",
    "\n",
    "llm = ChatOllama(model=\"llama3.2:1b\")"
   ]
  },
  {
   "cell_type": "code",
   "execution_count": 3,
   "id": "07a86a67",
   "metadata": {},
   "outputs": [
    {
     "name": "stdout",
     "output_type": "stream",
     "text": [
      "text='What is the capital of France?'\n"
     ]
    },
    {
     "data": {
      "text/plain": [
       "AIMessage(content='The capital of France is Paris.', additional_kwargs={}, response_metadata={'model': 'llama3.2:1b', 'created_at': '2025-10-28T04:03:09.9629529Z', 'done': True, 'done_reason': 'stop', 'total_duration': 695841200, 'load_duration': 182361700, 'prompt_eval_count': 32, 'prompt_eval_duration': 149072600, 'eval_count': 8, 'eval_duration': 350152600, 'model_name': 'llama3.2:1b', 'model_provider': 'ollama'}, id='lc_run--c821c847-7ead-4786-b53f-95a72db04bf1-0', usage_metadata={'input_tokens': 32, 'output_tokens': 8, 'total_tokens': 40})"
      ]
     },
     "execution_count": 3,
     "metadata": {},
     "output_type": "execute_result"
    }
   ],
   "source": [
    "from langchain_core.prompts import PromptTemplate\n",
    "\n",
    "prompt_template = PromptTemplate(\n",
    "    template= \"What is the capital of {country}?\",\n",
    "    input_variables=[\"country\"]\n",
    ")\n",
    "\n",
    "prompt = prompt_template.invoke({\"country\": \"France\"})\n",
    "\n",
    "print(prompt)\n",
    "\n",
    "llm.invoke(prompt)"
   ]
  },
  {
   "cell_type": "code",
   "execution_count": 4,
   "id": "4aa4f20c",
   "metadata": {},
   "outputs": [
    {
     "data": {
      "text/plain": [
       "AIMessage(content='The capital of Italy is Rome.', additional_kwargs={}, response_metadata={'model': 'llama3.2:1b', 'created_at': '2025-10-28T04:03:12.6464918Z', 'done': True, 'done_reason': 'stop', 'total_duration': 1556635900, 'load_duration': 168018900, 'prompt_eval_count': 86, 'prompt_eval_duration': 1040713500, 'eval_count': 8, 'eval_duration': 331116600, 'model_name': 'llama3.2:1b', 'model_provider': 'ollama'}, id='lc_run--59956390-3a54-4b70-ba39-48b1c647eb1a-0', usage_metadata={'input_tokens': 86, 'output_tokens': 8, 'total_tokens': 94})"
      ]
     },
     "execution_count": 4,
     "metadata": {},
     "output_type": "execute_result"
    }
   ],
   "source": [
    "# 프롬프트 넣는 방법1. BaseMessage 상속 객체 사용 -> LCEL (파이프라인 체이닝) 불가\n",
    "\n",
    "from langchain_core.messages import HumanMessage, SystemMessage, AIMessage\n",
    "\n",
    "message_list = [\n",
    "    SystemMessage(content = \"You are a helpful assistant!\"),    # 시스템 프롬프트\n",
    "    # few-shot 예제 프롬프트\n",
    "    HumanMessage(content = \"What is the capital of France?\"),\n",
    "    AIMessage(content = \"The capital of France is Paris.\"),\n",
    "    HumanMessage(content = \"What is the capital of Germany?\"),\n",
    "    AIMessage(content = \"The capital of Germany is Berlin.\"),\n",
    "    HumanMessage(content = \"What is the capital of Italy?\"),\n",
    "]\n",
    "\n",
    "llm.invoke(message_list)"
   ]
  },
  {
   "cell_type": "code",
   "execution_count": 5,
   "id": "bd9be8df",
   "metadata": {},
   "outputs": [
    {
     "name": "stdout",
     "output_type": "stream",
     "text": [
      "messages=[SystemMessage(content='You are a helpful assistant!', additional_kwargs={}, response_metadata={}), HumanMessage(content='What is the capital of France?', additional_kwargs={}, response_metadata={}), AIMessage(content='The capital of France is Paris.', additional_kwargs={}, response_metadata={}), HumanMessage(content='What is the capital of Germany?', additional_kwargs={}, response_metadata={}), AIMessage(content='The capital of Germany is Berlin.', additional_kwargs={}, response_metadata={}), HumanMessage(content='What is the capital of Italy?', additional_kwargs={}, response_metadata={})]\n"
     ]
    },
    {
     "data": {
      "text/plain": [
       "AIMessage(content='The capital of Italy is Rome.', additional_kwargs={}, response_metadata={'model': 'llama3.2:1b', 'created_at': '2025-10-28T04:03:34.3545242Z', 'done': True, 'done_reason': 'stop', 'total_duration': 546010600, 'load_duration': 189127700, 'prompt_eval_count': 86, 'prompt_eval_duration': 42733200, 'eval_count': 8, 'eval_duration': 301141300, 'model_name': 'llama3.2:1b', 'model_provider': 'ollama'}, id='lc_run--2fb77445-a4de-4040-a07d-b4f265255e46-0', usage_metadata={'input_tokens': 86, 'output_tokens': 8, 'total_tokens': 94})"
      ]
     },
     "execution_count": 5,
     "metadata": {},
     "output_type": "execute_result"
    }
   ],
   "source": [
    "# 프롬프트 넣는 방법2. tuple 형식의 ChatPromptTemplate 사용 -> LCEL 가능\n",
    "\n",
    "from langchain_core.prompts import ChatPromptTemplate\n",
    "\n",
    "# tuple로 넣어줘야 동작함\n",
    "chat_prompt_template = ChatPromptTemplate.from_messages([\n",
    "    (\"system\", \"You are a helpful assistant!\"),\n",
    "    (\"human\", \"What is the capital of France?\"),\n",
    "    (\"ai\", \"The capital of France is Paris.\"),\n",
    "    (\"human\", \"What is the capital of Germany?\"),\n",
    "    (\"ai\", \"The capital of Germany is Berlin.\"),\n",
    "    (\"human\", \"What is the capital of {country}?\"),\n",
    "])\n",
    "\n",
    "chat_prompt = chat_prompt_template.invoke({\"country\": \"Italy\"})\n",
    "\n",
    "print(chat_prompt)\n",
    "\n",
    "llm.invoke(message_list)"
   ]
  }
 ],
 "metadata": {
  "kernelspec": {
   "display_name": ".venv",
   "language": "python",
   "name": "python3"
  },
  "language_info": {
   "codemirror_mode": {
    "name": "ipython",
    "version": 3
   },
   "file_extension": ".py",
   "mimetype": "text/x-python",
   "name": "python",
   "nbconvert_exporter": "python",
   "pygments_lexer": "ipython3",
   "version": "3.12.4"
  }
 },
 "nbformat": 4,
 "nbformat_minor": 5
}
